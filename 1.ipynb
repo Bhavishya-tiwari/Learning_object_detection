{
 "cells": [
  {
   "cell_type": "code",
   "execution_count": 4,
   "metadata": {},
   "outputs": [],
   "source": [
    "from ultralytics import YOLO\n",
    "import cv2"
   ]
  },
  {
   "cell_type": "code",
   "execution_count": 5,
   "metadata": {},
   "outputs": [],
   "source": [
    "model = YOLO('Yolo-weights/yolov8l.pt')\n"
   ]
  },
  {
   "cell_type": "code",
   "execution_count": 6,
   "metadata": {},
   "outputs": [
    {
     "name": "stderr",
     "output_type": "stream",
     "text": [
      "WARNING  Environment does not support cv2.imshow() or PIL Image.show()\n",
      "\n",
      "Ultralytics YOLOv8.0.26  Python-3.10.1 torch-2.3.0+cpu CPU\n",
      "YOLOv8l summary (fused): 268 layers, 43668288 parameters, 0 gradients, 165.2 GFLOPs\n",
      "\n",
      "0: 608x640 18 persons, 3 backpacks, 1 umbrella, 5 handbags, 3 suitcases, 1615.3ms\n",
      "Speed: 0.0ms pre-process, 1615.3ms inference, 17.0ms postprocess per image at shape (1, 3, 640, 640)\n"
     ]
    }
   ],
   "source": [
    "image = cv2.imread('images/img2.jpg')\n",
    "# Scale the image to 50% of its original size\n",
    "scaled_image = cv2.resize(image, (0, 0), fx=0.3, fy=0.3)\n",
    "results = model(scaled_image, show=True)\n",
    "cv2.waitKey(0)\n",
    "cv2.destroyAllWindows()"
   ]
  },
  {
   "cell_type": "code",
   "execution_count": null,
   "metadata": {},
   "outputs": [],
   "source": []
  }
 ],
 "metadata": {
  "kernelspec": {
   "display_name": "myenv",
   "language": "python",
   "name": "python3"
  },
  "language_info": {
   "codemirror_mode": {
    "name": "ipython",
    "version": 3
   },
   "file_extension": ".py",
   "mimetype": "text/x-python",
   "name": "python",
   "nbconvert_exporter": "python",
   "pygments_lexer": "ipython3",
   "version": "3.10.1"
  }
 },
 "nbformat": 4,
 "nbformat_minor": 2
}
